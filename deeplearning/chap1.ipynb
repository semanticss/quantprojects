{
 "cells": [
  {
   "cell_type": "code",
   "execution_count": null,
   "metadata": {},
   "outputs": [],
   "source": [
    "from typing import Callable\n",
    "from typing import List\n",
    "import numpy as np\n",
    "from numpy import ndarray\n",
    "\n",
    "\n",
    "def deriv(func: Callable[[ndarray], ndarray], input_: ndarray, delta: float = 0.001) -> ndarray:\n",
    "    return (func(input_ + delta) - func(input_, delta)) / (2 * delta)\n",
    "\n",
    "E = 1 #or some function\n",
    "\n",
    "def f(input: ndarray) -> ndarray:\n",
    "    #some stuff\n",
    "    output = 1 #whatever value gives output\n",
    "    return output\n",
    "\n",
    "P = f(E)\n",
    "\n",
    "# nested functions is x --> f_1 --> f_2 --> y OR f_2(f_1(x)) = y\n",
    "# in code, nesting functions look like\n",
    "\n",
    "# A function that takes an ndarray as an input and produces an ndarray as an output\n",
    "Array_Function = Callable[[ndarray], ndarray]\n",
    "\n",
    "# A chain is a list of functions\n",
    "Chain = List[Array_Function]\n",
    "\n",
    "def chain_length_2(chain: Chain, a: ndarray) -> ndarray:\n",
    "\n",
    "    assert len(chain) == 2 #just MAKES SURE that the length of the chain is 2 otherwise it raises an error instead of an if and and else to raise and error or smth \n",
    "\n",
    "    f1 = chain[0]\n",
    "    f2 = chain[1]\n",
    "\n",
    "    return f2(f1(a)) # bro you can apply a funtion to an array holy cow but YOU CANNOT do this to a normal array has to be ndarray\n",
    "\n",
    "# also could think of this as x --> f2f1 --> y\n",
    "\n"
   ]
  },
  {
   "cell_type": "code",
   "execution_count": null,
   "metadata": {},
   "outputs": [],
   "source": []
  }
 ],
 "metadata": {
  "kernelspec": {
   "display_name": "Python 3",
   "language": "python",
   "name": "python3"
  },
  "language_info": {
   "codemirror_mode": {
    "name": "ipython",
    "version": 3
   },
   "file_extension": ".py",
   "mimetype": "text/x-python",
   "name": "python",
   "nbconvert_exporter": "python",
   "pygments_lexer": "ipython3",
   "version": "3.13.0"
  }
 },
 "nbformat": 4,
 "nbformat_minor": 2
}
