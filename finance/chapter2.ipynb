{
 "cells": [
  {
   "cell_type": "code",
   "execution_count": 1,
   "metadata": {},
   "outputs": [],
   "source": [
    "# Present Value\n",
    "\n",
    "# A cash flow of c_1 = 12 in one year is not the same as a cash flow of c_0 = 12 right now since there is \n",
    "# interest that could be earned. This requires the present value to be calculated, and this is done by \n",
    "# a discounting function.\n",
    "\n",
    "# Sort of the idea that money is worth the most right now, \n",
    "c1 = 12.1\n",
    "def d(c, i):\n",
    "    return c / (1 + i)\n",
    "\n",
    "c0 = d(c1, 0.1)\n",
    "\n",
    "# c1 = (1+i)c0 is the same as what is given in d(c,i)"
   ]
  },
  {
   "cell_type": "code",
   "execution_count": 2,
   "metadata": {},
   "outputs": [],
   "source": [
    "# Net present value is basically saying that you take the current cost outflow, and then add the \n",
    "# potential returns to it to see if it is worth it. \n",
    "\n",
    "# NPV = c_0 + d(c_1)"
   ]
  },
  {
   "cell_type": "code",
   "execution_count": 5,
   "metadata": {},
   "outputs": [
    {
     "name": "stdout",
     "output_type": "stream",
     "text": [
      "<class 'numpy.ndarray'>\n",
      "(-10, array([20,  5]))\n",
      "<class 'tuple'>\n"
     ]
    }
   ],
   "source": [
    "# Uncertainty: consider that a market or economy can be in 1 of 2 states in one year from now. \n",
    "# Then, the c_1 value (cost inflow one year from now) can be also in 1 of 2 states: c_1^up or c_1^down\n",
    "# Can represent as a columnn vector with those two states, so c_1 becomes a vector. Vectors are linear\n",
    "# over addition and multiplcation as usual. Generally, people use Numpy for vector stuff like this.\n",
    "\n",
    "import numpy as np\n",
    "\n",
    "c0 = -10\n",
    "\n",
    "c1 = np.array((20,5))\n",
    "print(type(c1))\n",
    "\n",
    "c=(c0,c1)\n",
    "\n",
    "print(c)\n",
    "print(type(c))\n"
   ]
  },
  {
   "cell_type": "code",
   "execution_count": null,
   "metadata": {},
   "outputs": [],
   "source": [
    "# Financial assets are instruments that have a fixed price today, or at t=0, and an uncertain price at a t > 0\n",
    "# An economy that has it's state's probabilities determined is called an economy under risk, and one that \n",
    "# doesn't is called an economy under ambiguity. "
   ]
  }
 ],
 "metadata": {
  "kernelspec": {
   "display_name": "Python 3",
   "language": "python",
   "name": "python3"
  },
  "language_info": {
   "codemirror_mode": {
    "name": "ipython",
    "version": 3
   },
   "file_extension": ".py",
   "mimetype": "text/x-python",
   "name": "python",
   "nbconvert_exporter": "python",
   "pygments_lexer": "ipython3",
   "version": "3.13.0"
  }
 },
 "nbformat": 4,
 "nbformat_minor": 2
}
