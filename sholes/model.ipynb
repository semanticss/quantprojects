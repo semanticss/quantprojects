{
 "cells": [
  {
   "cell_type": "code",
   "execution_count": 16,
   "metadata": {},
   "outputs": [],
   "source": [
    "# So, basically, the Black-Sholes model is a estimates the theoretical value of a given derivative\n",
    "# based on explicit, discrete, external instruments. It (BSM) considers the impact of time until\n",
    "# expiration as well as other risk factors. \n",
    "\n",
    "# It is set up as a differential equation with respect to an arbirtary number of variables, each of which\n",
    "# increase the complexity linearly. Only used to consider European-style options, as it does not consider\n",
    "# the fact that American options can be exercised before the expiration date occurs.\n",
    "\n",
    "# The model posits the idea that instruments are distributed log-normally, which basically just means that\n",
    "# they are the sort of normal in the positive x direction and positive y direction. This is because \n",
    "# the option is essentially risk-free apart from the price of the option initially, which is sunk after\n",
    "# purchase. It also assumes they follow a random walk (stochastic process) with a constant drift and a \n",
    "# constant volatility. It is set up to predict the price of a CALL OPTION. There is an alternative equation\n",
    "# that can be derived closed-form that predicts the price of a PUT OPTION. Other models of this nature include\n",
    "# the binomial pricing model or the Monte-Carlo model.\n",
    "\n",
    "# Assumptions:\n",
    "        # 1. No dividends are paid out during the life of the option.\n",
    "        # 2. Markets are entirely random.\n",
    "        # 3. No transaction costs when purchasing the option (frictionless)\n",
    "        # 4. The risk-free rate and volatility are known and constant\n",
    "        # 5. The returns of the actual underlying assets are NORMALLY distributed (hence the lognormal of the option)\n",
    "        # 6. Option is European.\n",
    "\n",
    "# The base BSM is given as: C =  (Current underlying price)(Normal distribution of d1) - (Strike price)(exp(-risk free rate * time to expiration))(Normal distribution d2)\n",
    "# where d1 = (ln(current price / strike price) + (risk-free + ))"
   ]
  },
  {
   "cell_type": "code",
   "execution_count": 17,
   "metadata": {},
   "outputs": [
    {
     "name": "stdout",
     "output_type": "stream",
     "text": [
      "Call Option Price: 10.450583572185565\n",
      "Put Option Price: 5.573526022256971\n"
     ]
    }
   ],
   "source": [
    "# Black sholes calculator\n",
    "from typing import Callable\n",
    "from typing import List\n",
    "import yfinance as yf\n",
    "import numpy as np\n",
    "import scipy.stats as si\n",
    "import matplotlib.pyplot as plt\n",
    "import mplfinance as mpf\n",
    "import plotly.graph_objects as go\n",
    "from datetime import datetime\n",
    "import pandas as pd\n",
    "\n",
    "class BlackSholesModel:\n",
    "    def __init__(self, S, K, T, r, sigma):\n",
    "        self.S = S\n",
    "        self.K = K\n",
    "        self.T = T\n",
    "        self.r = r\n",
    "        self.sigma = sigma\n",
    "\n",
    "    def d1(self):\n",
    "        return (np.log(self.S / self.K) + (self.r + (0.5 * (self.sigma ** 2)))) / (self.sigma * np.sqrt(self.T))\n",
    "    \n",
    "    def d2(self):\n",
    "        return self.d1() - (self.sigma * np.sqrt(self.T))\n",
    "    \n",
    "    def call_option_price(self):\n",
    "        return (self.S * si.norm.cdf(self.d1(), 0, 1)) - (self.K * np.exp(-1 * self.r * self.T) * si.norm.cdf(self.d2(), 0, 1))\n",
    "    \n",
    "    def put_option_price(self):\n",
    "        return (self.K * np.exp(-self.r * self.T) * si.norm.cdf(-self.d2(), 0, 1) - self.S * si.norm.cdf(-self.d1(), 0, 1))\n",
    "    \n",
    "    # Example usage\n",
    "\n",
    "bsm_example = BlackSholesModel(S=100, K=100, T=1, r=0.05, sigma=0.2)\n",
    "print(f\"Call Option Price: {bsm_example.call_option_price()}\")\n",
    "print(f\"Put Option Price: {bsm_example.put_option_price()}\")\n",
    "\n"
   ]
  },
  {
   "cell_type": "code",
   "execution_count": 29,
   "metadata": {},
   "outputs": [
    {
     "name": "stderr",
     "output_type": "stream",
     "text": [
      "[*********************100%***********************]  1 of 1 completed\n",
      "\n",
      "1 Failed download:\n",
      "['AAPL']: ReadTimeout(ReadTimeoutError(\"HTTPSConnectionPool(host='query2.finance.yahoo.com', port=443): Read timed out. (read timeout=10)\"))\n"
     ]
    },
    {
     "name": "stdout",
     "output_type": "stream",
     "text": [
      "Empty DataFrame\n",
      "Columns: [Adj Close, Close, High, Low, Open, Volume]\n",
      "Index: []\n"
     ]
    }
   ],
   "source": [
    "# Historical volatlity: the HV of a stock is basically a measure of the distribution of returns, or the variability in\n",
    "# return magnitude, of something over a period. You essentially want to find the average deviation the average price.\n",
    "# Computed by making use of the standard deviation. \n",
    "\n",
    "# Collect the historical prices for the asset.\n",
    "# Compute the expected price (mean) of the historical prices.\n",
    "# Work out the difference between the average price and each price in the series.\n",
    "# Square the differences from the previous step.\n",
    "# Determine the sum of the squared differences.\n",
    "# Divide the differences by the total number of prices (find variance).\n",
    "# Compute the square root of the variance computed in the previous step.\n",
    "\n",
    "class Stock:\n",
    "    def __init__(self, ticker, interval, start, end):\n",
    "        self.interval = interval\n",
    "        self.start = start\n",
    "        self.end = end\n",
    "        self.ticker = ticker\n",
    "\n",
    "    def get_data(self):\n",
    "        self.data = yf.download(self.ticker, self.start, self.end, self.interval)\n",
    "        if isinstance(self.data.columns, pd.MultiIndex):\n",
    "            self.data.columns = self.data.columns.get_level_values(0)\n",
    "        # self.data.reset_index(names='Date', inplace = True)\n",
    "        self.close = self.data['Close']\n",
    "\n",
    "def hv(ticker: str, interval: int = 4, start: str = '2023-01-01', end = datetime.now()) -> float:\n",
    "    stock = Stock(ticker, interval, start, end)\n",
    "    stock.get_data()\n",
    "    print(stock.data)\n",
    "\n",
    "hv('aapl', 1)"
   ]
  }
 ],
 "metadata": {
  "kernelspec": {
   "display_name": "Python 3",
   "language": "python",
   "name": "python3"
  },
  "language_info": {
   "codemirror_mode": {
    "name": "ipython",
    "version": 3
   },
   "file_extension": ".py",
   "mimetype": "text/x-python",
   "name": "python",
   "nbconvert_exporter": "python",
   "pygments_lexer": "ipython3",
   "version": "3.13.0"
  }
 },
 "nbformat": 4,
 "nbformat_minor": 2
}
