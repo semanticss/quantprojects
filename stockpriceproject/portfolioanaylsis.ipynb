{
 "cells": [
  {
   "cell_type": "code",
   "execution_count": 2,
   "metadata": {},
   "outputs": [],
   "source": [
    "import yfinance as yf\n",
    "import mplfinance as mpf\n",
    "from datetime import datetime\n",
    "import pandas as pd\n",
    "from dateutil.relativedelta import relativedelta\n",
    "from pprint import pprint\n",
    "import numpy as np\n",
    "from matplotlib import pyplot as plt\n",
    "\n",
    "portfoliodict = {\n",
    "    \"aapl\": 0.4,\n",
    "    \"nke\": 0.1,\n",
    "    \"cdns\": 0.3,\n",
    "    \"dxcm\": 0.2\n",
    "}\n",
    "\n",
    "tickers = list(portfoliodict.keys())\n",
    "\n",
    "weights = list(portfoliodict.values())\n",
    "\n",
    "class Company:\n",
    "    def __init__(self, ticker, weight):\n",
    "        self.ticker = ticker\n",
    "        self.weight = weight\n",
    "    \n",
    "    def make_company(self, start, end = datetime.now(), interval = '1d'):\n",
    "        self.data = yf.download(self.ticker, start, end, interval)\n",
    "        if isinstance(self.data.columns, pd.MultiIndex):\n",
    "            self.data.columns = self.data.columns.get_level_values(0)\n",
    "        self.data.reset_index(names='Date', inplace = True)\n",
    "        self.data['Daily Returns'] = self.data['Close'].pct_change()\n",
    "\n",
    "\n",
    "class Market:\n",
    "    def __init__(self, ticker):\n",
    "        self.ticker = ticker\n",
    "\n",
    "    def make_market(self, start, end = datetime.now(), interval = '1d'):\n",
    "        self.data = yf.download(self.ticker, start, end, interval)\n",
    "        if isinstance(self.data.columns, pd.MultiIndex):\n",
    "            self.data.columns = self.data.columns.get_level_values(0)\n",
    "        self.data.reset_index(names='Date', inplace = True)\n",
    "        self.data['Daily Returns'] = self.data['Close'].pct_change()\n",
    "\n",
    "companies = []\n",
    "\n",
    "def make_companies(tickers, start, weights):\n",
    "    i = 0\n",
    "    for ticker in tickers:\n",
    "        company = Company(ticker, weights[i])\n",
    "        company.make_company(start)\n",
    "        companies.append(company)\n",
    "        i += 1"
   ]
  },
  {
   "cell_type": "code",
   "execution_count": 3,
   "metadata": {},
   "outputs": [
    {
     "name": "stdout",
     "output_type": "stream",
     "text": [
      "YF.download() has changed argument auto_adjust default to True\n"
     ]
    },
    {
     "name": "stderr",
     "output_type": "stream",
     "text": [
      "[*********************100%***********************]  1 of 1 completed\n",
      "[*********************100%***********************]  1 of 1 completed\n",
      "[*********************100%***********************]  1 of 1 completed\n",
      "[*********************100%***********************]  1 of 1 completed\n",
      "[*********************100%***********************]  1 of 1 completed"
     ]
    },
    {
     "name": "stdout",
     "output_type": "stream",
     "text": [
      "Ticker          AAPL      AMZN      META     GOOGL      MSFT  Portfolio\n",
      "Date                                                                   \n",
      "2023-01-04  0.010314 -0.007924  0.021084 -0.011670 -0.043743  -0.006388\n",
      "2023-01-05 -0.010605 -0.023726 -0.003376 -0.021344 -0.029638  -0.017738\n",
      "2023-01-06  0.036794  0.035611  0.024263  0.013225  0.011785   0.024336\n",
      "2023-01-09  0.004089  0.014870 -0.004230  0.007786  0.009736   0.006450\n",
      "2023-01-10  0.004456  0.028732  0.027188  0.004544  0.007617   0.014508\n"
     ]
    },
    {
     "name": "stderr",
     "output_type": "stream",
     "text": [
      "\n"
     ]
    },
    {
     "data": {
      "text/plain": [
       "<Axes: xlabel='Ticker'>"
      ]
     },
     "execution_count": 3,
     "metadata": {},
     "output_type": "execute_result"
    },
    {
     "data": {
      "image/png": "[encoded data removed]",
      "text/plain": [
       "<Figure size 640x480 with 1 Axes>"
      ]
     },
     "metadata": {},
     "output_type": "display_data"
    }
   ],
   "source": [
    "\n",
    "# Sharpe Ratio Calc\n",
    "\n",
    "# calculated by the (return of the portfolio - the risk free rate) divided by std of the portfolios excess return\n",
    "# basically compares the returns you get on the investment minus the return you would have gotten from the risk free rate,\n",
    "# or the rate the government would tell you, and then divide by a quantified measure of how much risk you are taking\n",
    "# to get the extra return as compared with the risk free rate\n",
    "\n",
    "# the risk is sigma and is calculated by summing all the returns over given periods, and then dividng by the periods and stuff\n",
    "\n",
    "\n",
    "portfolio = {\n",
    "    'AAPl': 0.2,\n",
    "    'AMZN': 0.2,\n",
    "    'META': 0.2,\n",
    "    'GOOGL': 0.2,\n",
    "    'MSFT': 0.2\n",
    "}\n",
    "\n",
    "stock_data = [yf.download(ticker, '2023-01-01', datetime.now(), '1d')['Close'] for ticker in list(portfolio.keys())]\n",
    "\n",
    "df = pd.concat(stock_data, axis=1).pct_change().dropna()\n",
    "\n",
    "df['Portfolio'] = df.mean(axis = 1)\n",
    "\n",
    "(df + 1).cumprod().plot()\n",
    "\n",
    "# add one to each percent change, then multiply all of them in order to get the total percent change\n",
    "\n",
    "(df + 1).cumprod()[-1:]\n",
    "\n",
    "print(df.head())\n",
    "\n",
    "def sharpe(return_series, N, rf): # N is the number of trading periods in a year, which is 255 for daily returns.\n",
    "    #  the return series is just the percent change in returns i think\n",
    "    # the rf is the risk free rate\n",
    "\n",
    "    mean = return_series.mean() * N - rf\n",
    "    sigma = return_series.std() * np.sqrt(N)\n",
    "    return mean / sigma\n",
    "\n",
    "N = 255\n",
    "rf = 0.01\n",
    "\n",
    "sharpes = df.apply(sharpe, args = (N,rf), axis = 0) # the .apply method lets you apply a function an entire row or \n",
    "# column of a DataFrame,\n",
    "\n",
    "sharpes.plot.bar()\n"
   ]
  },
  {
   "cell_type": "code",
   "execution_count": null,
   "metadata": {},
   "outputs": [],
   "source": [
    "\n",
    "\n"
   ]
  }
 ],
 "metadata": {
  "kernelspec": {
   "display_name": "Python 3",
   "language": "python",
   "name": "python3"
  },
  "language_info": {
   "codemirror_mode": {
    "name": "ipython",
    "version": 3
   },
   "file_extension": ".py",
   "mimetype": "text/x-python",
   "name": "python",
   "nbconvert_exporter": "python",
   "pygments_lexer": "ipython3",
   "version": "3.13.0"
  }
 },
 "nbformat": 4,
 "nbformat_minor": 2
}
